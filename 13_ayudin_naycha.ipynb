{
 "cells": [
  {
   "cell_type": "code",
   "execution_count": 1,
   "metadata": {},
   "outputs": [],
   "source": [
    "import pandas as pd\n",
    "from datetime import *\n",
    "from dateutil import *\n",
    "import warnings\n",
    "import numpy as np\n",
    "import os\n",
    "warnings.filterwarnings('ignore')"
   ]
  },
  {
   "cell_type": "code",
   "execution_count": 5,
   "metadata": {},
   "outputs": [],
   "source": [
    "def concat_excel_files(dir_path):\n",
    "    # Get a list of all Excel files in the directory\n",
    "    excel_files = [f for f in os.listdir(dir_path) if f.endswith('.xlsx')]\n",
    "\n",
    "    # Initialize an empty list to store the DataFrames\n",
    "    dfs = pd.DataFrame()\n",
    "\n",
    "    # Loop through the Excel files and read them into DataFrames\n",
    "    for excel_file in excel_files:\n",
    "        df = pd.read_excel(os.path.join(dir_path, excel_file))\n",
    "        columns_keep = ['Ítem', 'Sucursal', 'Número Suministro', 'Número Medidor',\n",
    "       'Ruta / Libro', 'Dirección', 'Operador', 'Fecha Solicitud',\n",
    "       'Fecha Generación', 'Fecha Ejecución', 'Fecha Pago', 'Acción Realizada',\n",
    "       'Situación Encontrada', 'Lectura', 'F - T - A', 'Sticker',\n",
    "       'Observaciones', 'Tipo Proceso', 'Efectividad', 'Estado Suministro',\n",
    "       'Cant. Fotos', 'Ubicación Medidor', 'Prioridad']\n",
    "        df = df[columns_keep]\n",
    "        dfs = pd.concat([dfs,df])   \n",
    "\n",
    "    return dfs"
   ]
  },
  {
   "cell_type": "code",
   "execution_count": 6,
   "metadata": {},
   "outputs": [],
   "source": [
    "df = concat_excel_files(r'D:\\BD_PROCESAR\\CX')\n",
    "df1 = concat_excel_files(r'D:\\BD_PROCESAR\\RXN')"
   ]
  },
  {
   "cell_type": "code",
   "execution_count": 7,
   "metadata": {},
   "outputs": [],
   "source": [
    "df['ACCIÓN'] = df['Acción Realizada'].str.split(\"=\",expand = True)[0]\n",
    "df['ACCIÓN'] = df['ACCIÓN'].str.strip().str.upper()\n",
    "\n",
    "df1['ACCIÓN'] = df1['Acción Realizada'].str.split(\"=\",expand = True)[0]\n",
    "df1['ACCIÓN'] = df1['ACCIÓN'].str.strip().str.upper()\n",
    "\n",
    "df['SECTOR'] = df['Ruta / Libro'].str[:2] \n",
    "df1['SECTOR'] = df1['Ruta / Libro'].str[:2] \n",
    "\n",
    "df['EFECTIVIDAD'] = np.where(df['Efectividad'] == 'Efectivo','Efectivo','No efectivo')\n",
    "df['EFECTIVIDAD'] = np.where(df['ACCIÓN']== 'NV','No visitado',df['EFECTIVIDAD'])\n",
    "df['EFECTIVIDAD'] = np.where(df['ACCIÓN'] == 'PG','PG',df['EFECTIVIDAD'])\n",
    "\n",
    "df1['EFECTIVIDAD'] = np.where(df1['Efectividad'] == 'Efectivo','Efectivo','No efectivo')\n",
    "df1['EFECTIVIDAD'] = np.where(df1['ACCIÓN']== 'NV','No visitado',df1['EFECTIVIDAD'])\n",
    "df1['EFECTIVIDAD'] = np.where(df1['ACCIÓN'] == 'PG','PG',df1['EFECTIVIDAD'])\n",
    "\n",
    "df['Operador'] = df['Operador'].str.upper().str.strip()\n",
    "df1['Operador'] = df1['Operador'].str.upper().str.strip()\n",
    "\n",
    "df['Fecha Ejecución'] = pd.to_datetime(df['Fecha Ejecución'],format = '%d/%m/%Y %H:%M')\n",
    "df1['Fecha Ejecución'] = pd.to_datetime(df1['Fecha Ejecución'],format = '%d/%m/%Y %H:%M')\n",
    "df['HORA EJEC'] = df['Fecha Ejecución'].dt.time\n",
    "df1['HORA EJEC'] = df1['Fecha Ejecución'].dt.time\n",
    "\n",
    "df['Fecha Generación'] = pd.to_datetime(df['Fecha Generación'],format = '%d/%m/%Y %H:%M')\n",
    "df1['Fecha Generación'] = pd.to_datetime(df1['Fecha Generación'],format = '%d/%m/%Y %H:%M')\n",
    "\n",
    "df['FECHA EJEC'] = df['Fecha Ejecución'].dt.strftime('%d/%m/%Y')\n",
    "df['FECHA EJEC'] = pd.to_datetime(df['FECHA EJEC'],format = '%d/%m/%Y')\n",
    "\n",
    "df1['FECHA EJEC'] = df1['Fecha Ejecución'].dt.strftime('%d/%m/%Y')\n",
    "df1['FECHA EJEC'] = pd.to_datetime(df1['FECHA EJEC'],format = '%d/%m/%Y')\n",
    "\n",
    "df['FECHA GEN'] = df['Fecha Generación'].dt.strftime('%d/%m/%Y')\n",
    "df['FECHA GEN'] = pd.to_datetime(df['FECHA GEN'],format = '%d/%m/%Y')\n",
    "\n",
    "df1['FECHA GEN'] = df1['Fecha Generación'].dt.strftime('%d/%m/%Y')\n",
    "df1['FECHA GEN'] = pd.to_datetime(df1['FECHA GEN'],format = '%d/%m/%Y')\n",
    "\n",
    "df.dropna(subset = 'FECHA EJEC',inplace=True)\n",
    "df1.dropna(subset = 'FECHA EJEC',inplace=True)\n",
    "df.reset_index(drop = True,inplace = True)\n",
    "df1.reset_index(drop = True,inplace = True)\n",
    "df['TIPO TRABAJO'] = 'Corte'\n",
    "df1['TIPO TRABAJO'] = 'Reconexión'\n",
    "df_of = pd.concat([df,df1])\n",
    "df_of.reset_index(drop = True,inplace = True)\n",
    "df_of.drop_duplicates(subset=['Número Suministro','Fecha Generación','Fecha Ejecución','TIPO TRABAJO','ACCIÓN'],inplace = True)\n",
    "lista_fechas = df_of['FECHA EJEC'].unique()\n",
    "df_efectivo = df_of[df_of['EFECTIVIDAD'].isin(['Efectivo','No efectivo'])]"
   ]
  },
  {
   "cell_type": "code",
   "execution_count": null,
   "metadata": {},
   "outputs": [],
   "source": [
    "df_final = pd.DataFrame()\n",
    "for i in lista_fechas:\n",
    "    df_temp = df_efectivo[df_efectivo['FECHA EJEC'] == i]\n",
    "    lista_operarios = df_efectivo['Operador'].unique()\n",
    "    for j in lista_operarios:\n",
    "        df_temp_2 = df_temp[df_temp['Operador'] == j]\n",
    "        df_temp_2.sort_values(by = 'HORA EJEC',inplace=True)\n",
    "        df_temp_2['HORA EJEC'] = pd.to_datetime(df_temp_2['HORA EJEC'],format = '%H:%M:%S')\n",
    "        df_temp_2['Diferencia'] = df_temp_2['HORA EJEC'].diff(periods=1)\n",
    "        temp_group = df_temp_2.groupby(['Operador','FECHA EJEC'],as_index = False).agg({'Diferencia':['min','max','mean']})\n",
    "        new_columns = ['Operador', 'FECHA EJEC', 'min', 'max', 'mean']\n",
    "        temp_group.columns = new_columns\n",
    "        df_final = pd.concat([df_final,temp_group])\n",
    "        df_final.reset_index(drop = True,inplace=True)\n",
    "df_final['min'] =df_final['min'].dt.total_seconds()/60\n",
    "df_final['max'] =df_final['max'].dt.total_seconds()/60\n",
    "df_final['mean'] =df_final['mean'].dt.total_seconds()/60"
   ]
  },
  {
   "cell_type": "code",
   "execution_count": 9,
   "metadata": {},
   "outputs": [],
   "source": [
    "now_date = datetime.today().strftime('%Y%m%d_%H%M')"
   ]
  },
  {
   "cell_type": "code",
   "execution_count": 10,
   "metadata": {},
   "outputs": [],
   "source": [
    "df_final.to_excel(rf'D:\\BD_PROCESAR\\PROCESADO\\PROCESADO_{now_date}.xlsx',index = False)\n",
    "df_of.to_excel(rf'D:\\BD_PROCESAR\\PROCESADO\\BD_CONCATENADA_{now_date}.xlsx',index = False)"
   ]
  }
 ],
 "metadata": {
  "kernelspec": {
   "display_name": "lccvenv",
   "language": "python",
   "name": "python3"
  },
  "language_info": {
   "codemirror_mode": {
    "name": "ipython",
    "version": 3
   },
   "file_extension": ".py",
   "mimetype": "text/x-python",
   "name": "python",
   "nbconvert_exporter": "python",
   "pygments_lexer": "ipython3",
   "version": "3.10.11"
  },
  "orig_nbformat": 4
 },
 "nbformat": 4,
 "nbformat_minor": 2
}
